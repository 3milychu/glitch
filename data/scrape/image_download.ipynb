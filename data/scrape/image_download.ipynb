{
 "cells": [
  {
   "cell_type": "code",
   "execution_count": 174,
   "metadata": {
    "collapsed": true
   },
   "outputs": [],
   "source": [
    "from google_images_download import google_images_download\n",
    "import os\n",
    "import numpy as np\n",
    "import pandas as pd"
   ]
  },
  {
   "cell_type": "code",
   "execution_count": 175,
   "metadata": {
    "collapsed": true
   },
   "outputs": [],
   "source": [
    "# change search, folder and save path for each lookup\n",
    "search = \"peach\" # change this every time: your image keyword search\n",
    "num_images = 20 # the top n images downloaded from search\n",
    "folder_path = \"downloads/\" + search # change this with root directory of downloads\n",
    "save_path = search + \".csv\"\n",
    "json_save_path = search + '.json'"
   ]
  },
  {
   "cell_type": "code",
   "execution_count": 176,
   "metadata": {},
   "outputs": [
    {
     "name": "stdout",
     "output_type": "stream",
     "text": [
      "\n",
      "Item no.: 1 --> Item name = peach\n",
      "Evaluating...\n",
      "Starting Download...\n",
      "Image URL: https://images.ricardocuisine.com/services/recipes/1074x1074_494-background.jpg\n",
      "Completed Image ====> 1. 1074x1074_494-background.jpg\n",
      "Image URL: https://cdn1.medicalnewstoday.com/content/images/articles/274/274620/two-peaches.jpg\n",
      "Completed Image ====> 2. two-peaches.jpg\n",
      "Image URL: https://www.takearecess.com/images/products/pg-misc1.png\n",
      "Completed Image ====> 3. pg-misc1.png\n",
      "Image URL: https://fortmyersoliveoil.com/wp-content/uploads/2016/06/peach_1.jpg\n",
      "Completed Image ====> 4. peach_1.jpg\n",
      "Image URL: https://www.isons.com/wp-content/uploads/2016/10/Florida-Crest_shutterstock_18985177.jpg\n",
      "Completed Image ====> 5. florida-crest_shutterstock_18985177.jpg\n",
      "Image URL: https://www.starkbros.com/images/dynamic/1726-960x960.jpg\n",
      "Completed Image ====> 6. 1726-960x960.jpg\n",
      "Image URL: http://sportsvape.net/wp-content/uploads/2014/09/Peach.jpg\n",
      "Completed Image ====> 7. peach.jpg\n",
      "Image URL: https://visitpalisade.com/wp-content/uploads/2015/04/simple-peach-web.jpg\n",
      "Completed Image ====> 8. simple-peach-web.jpg\n",
      "Image URL: https://walkerswinejuice.com/wp-content/uploads/2018/04/peaches.jpg\n",
      "Completed Image ====> 9. peaches.jpg\n",
      "Image URL: https://limecrime-weblinc.netdna-ssl.com/product_images/neon-peach/Neon%20Peach/5c424f9161707068d90002f2/detail.jpg?c=1547849617\n",
      "Completed Image ====> 10. detail.jpg\n",
      "Image URL: https://www.thespruceeats.com/thmb/UztaKar7tralQaxUCuNtoCSigx8=/2121x1414/filters:no_upscale():max_bytes(150000):strip_icc()/Peaches-on-Their-Shoulders-579c9bab5f9b589aa90edfbe.jpg\n",
      "Completed Image ====> 11. peaches-on-their-shoulders-579c9bab5f9b589aa90edfbe.jpg\n",
      "Image URL: https://media.istockphoto.com/photos/peach-with-leaf-isolated-on-white-picture-id469811134?k=6&m=469811134&s=612x612&w=0&h=SA9GeE4pH7DC1m5gPiR99AA59PmEJEm2OFXVHujQBQs=\n",
      "Completed Image ====> 12. peach-with-leaf-isolated-on-white-picture-id469811134?k=6&m=469811134&s=612x612&w=0&h=sa9gee4ph7dc1m5gpir99aa59pmejem2ofxvhujqbqs=.jpg\n",
      "Image URL: https://www.citysuper.com.hk/getmedia/3dfc9aaf-d3d6-48e3-bca0-623f6832a44a/aug_foodpedia_peach_thumb_1.jpg.aspx?width=310&height=340&ext=.jpg\n",
      "Completed Image ====> 13. aug_foodpedia_peach_thumb_1.jpg.asp\n",
      "Image URL: https://cdn.shopify.com/s/files/1/0059/8835/2052/products/Dr.Davis_Peach_350_THUMBNAIL_large.jpg?v=1549650484\n",
      "Completed Image ====> 14. dr.davis_peach_350_thumbnail_large.jpg\n",
      "Image URL: https://project.inria.fr/peach/files/2016/03/peach_pic1.png\n",
      "Completed Image ====> 15. peach_pic1.png\n",
      "Image URL: https://cdn.shopify.com/s/files/1/2366/0247/products/product-image-212224885_x700.jpg?v=1506780539\n",
      "Completed Image ====> 16. product-image-212224885_x700.jpg\n",
      "Image URL: https://homecookingadventure.com/images/recipes/peach_cookies_main.jpg\n",
      "Completed Image ====> 17. peach_cookies_main.jpg\n",
      "Image URL: https://www.titosvodka.com/uploads/Recipes/Garnishes/_auto1000/Titos-Vodka-Peach-Ingredient.jpg\n",
      "Completed Image ====> 18. titos-vodka-peach-ingredient.jpg\n",
      "Image URL: https://steemitimages.com/DQmUrknJEgHi2gG9wEUZHNrwychPUAef5pg9e4kaMdFZzPK/peach.png\n",
      "Completed Image ====> 19. peach.png\n",
      "Image URL: https://i.stack.imgur.com/Nqx6J.png\n",
      "Completed Image ====> 20. nqx6j.png\n",
      "\n",
      "Errors: 0\n",
      "\n",
      "[{'peach': ['/Volumes/Samsung_T3/project-repos/glitch/data/scrape/downloads/peach/1. 1074x1074_494-background.jpg', '/Volumes/Samsung_T3/project-repos/glitch/data/scrape/downloads/peach/2. two-peaches.jpg', '/Volumes/Samsung_T3/project-repos/glitch/data/scrape/downloads/peach/3. pg-misc1.png', '/Volumes/Samsung_T3/project-repos/glitch/data/scrape/downloads/peach/4. peach_1.jpg', '/Volumes/Samsung_T3/project-repos/glitch/data/scrape/downloads/peach/5. florida-crest_shutterstock_18985177.jpg', '/Volumes/Samsung_T3/project-repos/glitch/data/scrape/downloads/peach/6. 1726-960x960.jpg', '/Volumes/Samsung_T3/project-repos/glitch/data/scrape/downloads/peach/7. peach.jpg', '/Volumes/Samsung_T3/project-repos/glitch/data/scrape/downloads/peach/8. simple-peach-web.jpg', '/Volumes/Samsung_T3/project-repos/glitch/data/scrape/downloads/peach/9. peaches.jpg', '/Volumes/Samsung_T3/project-repos/glitch/data/scrape/downloads/peach/10. detail.jpg', '/Volumes/Samsung_T3/project-repos/glitch/data/scrape/downloads/peach/11. peaches-on-their-shoulders-579c9bab5f9b589aa90edfbe.jpg', '/Volumes/Samsung_T3/project-repos/glitch/data/scrape/downloads/peach/12. peach-with-leaf-isolated-on-white-picture-id469811134?k=6&m=469811134&s=612x612&w=0&h=sa9gee4ph7dc1m5gpir99aa59pmejem2ofxvhujqbqs=.jpg', '/Volumes/Samsung_T3/project-repos/glitch/data/scrape/downloads/peach/13. aug_foodpedia_peach_thumb_1.jpg.asp', '/Volumes/Samsung_T3/project-repos/glitch/data/scrape/downloads/peach/14. dr.davis_peach_350_thumbnail_large.jpg', '/Volumes/Samsung_T3/project-repos/glitch/data/scrape/downloads/peach/15. peach_pic1.png', '/Volumes/Samsung_T3/project-repos/glitch/data/scrape/downloads/peach/16. product-image-212224885_x700.jpg', '/Volumes/Samsung_T3/project-repos/glitch/data/scrape/downloads/peach/17. peach_cookies_main.jpg', '/Volumes/Samsung_T3/project-repos/glitch/data/scrape/downloads/peach/18. titos-vodka-peach-ingredient.jpg', '/Volumes/Samsung_T3/project-repos/glitch/data/scrape/downloads/peach/19. peach.png', '/Volumes/Samsung_T3/project-repos/glitch/data/scrape/downloads/peach/20. nqx6j.png']}]\n"
     ]
    }
   ],
   "source": [
    "response = google_images_download.googleimagesdownload()   #class instantiation\n",
    "arguments = {\"keywords\":search,\"limit\":num_images,\"print_urls\":True}   #creating list of arguments\n",
    "path_list = [] # save paths to this list\n",
    "paths = response.download(arguments)   #passing the arguments to the function\n",
    "path_list.append(paths)\n",
    "print(path_list)"
   ]
  },
  {
   "cell_type": "code",
   "execution_count": 177,
   "metadata": {},
   "outputs": [
    {
     "name": "stdout",
     "output_type": "stream",
     "text": [
      "20\n"
     ]
    }
   ],
   "source": [
    "file_list = []\n",
    "for root, dirs, files in os.walk(folder_path):\n",
    "    for file in files:\n",
    "        file_list.append(file)\n",
    "        \n",
    "print(len(file_list))\n",
    "        \n",
    "np.savetxt(save_path, file_list, fmt=\"%s\", delimiter = \",\")"
   ]
  },
  {
   "cell_type": "code",
   "execution_count": 178,
   "metadata": {},
   "outputs": [],
   "source": [
    "import pandas as pd\n",
    "df2 = pd.read_csv(save_path, header=None)"
   ]
  },
  {
   "cell_type": "code",
   "execution_count": 179,
   "metadata": {},
   "outputs": [],
   "source": [
    "df2.columns=[\"src\"]"
   ]
  },
  {
   "cell_type": "code",
   "execution_count": 180,
   "metadata": {},
   "outputs": [
    {
     "data": {
      "text/html": [
       "<div>\n",
       "<style>\n",
       "    .dataframe thead tr:only-child th {\n",
       "        text-align: right;\n",
       "    }\n",
       "\n",
       "    .dataframe thead th {\n",
       "        text-align: left;\n",
       "    }\n",
       "\n",
       "    .dataframe tbody tr th {\n",
       "        vertical-align: top;\n",
       "    }\n",
       "</style>\n",
       "<table border=\"1\" class=\"dataframe\">\n",
       "  <thead>\n",
       "    <tr style=\"text-align: right;\">\n",
       "      <th></th>\n",
       "      <th>src</th>\n",
       "    </tr>\n",
       "  </thead>\n",
       "  <tbody>\n",
       "    <tr>\n",
       "      <th>0</th>\n",
       "      <td>1. 1074x1074_494-background.jpg</td>\n",
       "    </tr>\n",
       "    <tr>\n",
       "      <th>1</th>\n",
       "      <td>10. detail.jpg</td>\n",
       "    </tr>\n",
       "    <tr>\n",
       "      <th>2</th>\n",
       "      <td>11. peaches-on-their-shoulders-579c9bab5f9b589...</td>\n",
       "    </tr>\n",
       "    <tr>\n",
       "      <th>3</th>\n",
       "      <td>12. peach-with-leaf-isolated-on-white-picture-...</td>\n",
       "    </tr>\n",
       "    <tr>\n",
       "      <th>4</th>\n",
       "      <td>13. aug_foodpedia_peach_thumb_1.jpg.asp</td>\n",
       "    </tr>\n",
       "    <tr>\n",
       "      <th>5</th>\n",
       "      <td>14. dr.davis_peach_350_thumbnail_large.jpg</td>\n",
       "    </tr>\n",
       "    <tr>\n",
       "      <th>6</th>\n",
       "      <td>15. peach_pic1.png</td>\n",
       "    </tr>\n",
       "    <tr>\n",
       "      <th>7</th>\n",
       "      <td>16. product-image-212224885_x700.jpg</td>\n",
       "    </tr>\n",
       "    <tr>\n",
       "      <th>8</th>\n",
       "      <td>17. peach_cookies_main.jpg</td>\n",
       "    </tr>\n",
       "    <tr>\n",
       "      <th>9</th>\n",
       "      <td>18. titos-vodka-peach-ingredient.jpg</td>\n",
       "    </tr>\n",
       "    <tr>\n",
       "      <th>10</th>\n",
       "      <td>19. peach.png</td>\n",
       "    </tr>\n",
       "    <tr>\n",
       "      <th>11</th>\n",
       "      <td>2. two-peaches.jpg</td>\n",
       "    </tr>\n",
       "    <tr>\n",
       "      <th>12</th>\n",
       "      <td>20. nqx6j.png</td>\n",
       "    </tr>\n",
       "    <tr>\n",
       "      <th>13</th>\n",
       "      <td>3. pg-misc1.png</td>\n",
       "    </tr>\n",
       "    <tr>\n",
       "      <th>14</th>\n",
       "      <td>4. peach_1.jpg</td>\n",
       "    </tr>\n",
       "    <tr>\n",
       "      <th>15</th>\n",
       "      <td>5. florida-crest_shutterstock_18985177.jpg</td>\n",
       "    </tr>\n",
       "    <tr>\n",
       "      <th>16</th>\n",
       "      <td>6. 1726-960x960.jpg</td>\n",
       "    </tr>\n",
       "    <tr>\n",
       "      <th>17</th>\n",
       "      <td>7. peach.jpg</td>\n",
       "    </tr>\n",
       "    <tr>\n",
       "      <th>18</th>\n",
       "      <td>8. simple-peach-web.jpg</td>\n",
       "    </tr>\n",
       "    <tr>\n",
       "      <th>19</th>\n",
       "      <td>9. peaches.jpg</td>\n",
       "    </tr>\n",
       "  </tbody>\n",
       "</table>\n",
       "</div>"
      ],
      "text/plain": [
       "                                                  src\n",
       "0                     1. 1074x1074_494-background.jpg\n",
       "1                                      10. detail.jpg\n",
       "2   11. peaches-on-their-shoulders-579c9bab5f9b589...\n",
       "3   12. peach-with-leaf-isolated-on-white-picture-...\n",
       "4             13. aug_foodpedia_peach_thumb_1.jpg.asp\n",
       "5          14. dr.davis_peach_350_thumbnail_large.jpg\n",
       "6                                  15. peach_pic1.png\n",
       "7                16. product-image-212224885_x700.jpg\n",
       "8                          17. peach_cookies_main.jpg\n",
       "9                18. titos-vodka-peach-ingredient.jpg\n",
       "10                                      19. peach.png\n",
       "11                                 2. two-peaches.jpg\n",
       "12                                      20. nqx6j.png\n",
       "13                                    3. pg-misc1.png\n",
       "14                                     4. peach_1.jpg\n",
       "15         5. florida-crest_shutterstock_18985177.jpg\n",
       "16                                6. 1726-960x960.jpg\n",
       "17                                       7. peach.jpg\n",
       "18                            8. simple-peach-web.jpg\n",
       "19                                     9. peaches.jpg"
      ]
     },
     "execution_count": 180,
     "metadata": {},
     "output_type": "execute_result"
    }
   ],
   "source": [
    "df2"
   ]
  },
  {
   "cell_type": "code",
   "execution_count": 181,
   "metadata": {
    "collapsed": true
   },
   "outputs": [],
   "source": [
    "df2.to_csv(save_path, index=False)"
   ]
  },
  {
   "cell_type": "code",
   "execution_count": 185,
   "metadata": {},
   "outputs": [
    {
     "data": {
      "text/plain": [
       "1318"
      ]
     },
     "execution_count": 185,
     "metadata": {},
     "output_type": "execute_result"
    }
   ],
   "source": [
    "# save as json\n",
    "# Convert csv to json\n",
    "import csv\n",
    "import json\n",
    "\n",
    "csvfile = open('peach.csv', 'r')\n",
    "jsonfile = open(json_save_path, 'w')\n",
    "\n",
    "fieldnames = ('src')\n",
    "\n",
    "reader = csv.DictReader(csvfile, fieldnames)\n",
    "out = json.dumps( [row for row in reader])\n",
    "jsonfile.write(out)"
   ]
  },
  {
   "cell_type": "code",
   "execution_count": null,
   "metadata": {
    "collapsed": true
   },
   "outputs": [],
   "source": []
  }
 ],
 "metadata": {
  "kernelspec": {
   "display_name": "Python 3",
   "language": "python",
   "name": "python3"
  },
  "language_info": {
   "codemirror_mode": {
    "name": "ipython",
    "version": 3
   },
   "file_extension": ".py",
   "mimetype": "text/x-python",
   "name": "python",
   "nbconvert_exporter": "python",
   "pygments_lexer": "ipython3",
   "version": "3.6.3"
  }
 },
 "nbformat": 4,
 "nbformat_minor": 2
}
