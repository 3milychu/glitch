{
 "cells": [
  {
   "cell_type": "code",
   "execution_count": 145,
   "metadata": {
    "collapsed": true
   },
   "outputs": [],
   "source": [
    "from google_images_download import google_images_download\n",
    "import os\n",
    "import numpy as np\n",
    "import pandas as pd"
   ]
  },
  {
   "cell_type": "code",
   "execution_count": 184,
   "metadata": {
    "collapsed": true
   },
   "outputs": [],
   "source": [
    "# change search, folder and save path for each lookup\n",
    "search = \"intellect\" # change this every time: your image keyword search\n",
    "num_images = 20 # the top n images downloaded from search\n",
    "folder_path = \"/Users/emilychu/Desktop/glitch/downloads/\" + search # change this with root directory of downloads\n",
    "save_path = search + \".csv\"\n",
    "json_save_path = search + '.json'"
   ]
  },
  {
   "cell_type": "code",
   "execution_count": 185,
   "metadata": {},
   "outputs": [
    {
     "name": "stdout",
     "output_type": "stream",
     "text": [
      "\n",
      "Item no.: 1 --> Item name = intellect\n",
      "Evaluating...\n",
      "Starting Download...\n",
      "Image URL: https://www.lifecoachcode.com/wp-content/uploads/2018/03/9-Little-Things-You-Can-Do-Everyday-To-Increase-Your-Intellect-To-A-Whole-New-Level.jpg\n",
      "Completed Image ====> 1. 9-little-things-you-can-do-everyday-to-increase-your-intellect-to-a-whole-new-level.jpg\n",
      "Image URL: https://www-images.christianitytoday.com/images/45858.jpg?h=243&w=250\n",
      "Completed Image ====> 2. 45858.jpg\n",
      "Image URL: http://cdn.napps.me/image/1440679198_WhoLovesYourIntellectS.jpg\n",
      "Completed Image ====> 3. 1440679198_wholovesyourintellects.jpg\n",
      "Image URL: https://static.thenounproject.com/png/782799-200.png\n",
      "Completed Image ====> 4. 782799-200.png\n",
      "Image URL: http://communityonfriday.net/wp-content/uploads/2016/09/ideas.jpg\n",
      "Completed Image ====> 5. ideas.jpg\n",
      "Image URL: https://media.wnyc.org/i/800/0/c/85/1/Brain_aDa0pKR.jpg\n",
      "Completed Image ====> 6. brain_ada0pkr.jpg\n",
      "Image URL: https://cdn1.vectorstock.com/i/1000x1000/45/50/intellect-gear-icon-vector-10874550.jpg\n",
      "Completed Image ====> 7. intellect-gear-icon-vector-10874550.jpg\n",
      "Image URL: https://venturebeat.com/wp-content/uploads/2017/07/untitled-design16.jpg?fit=400%2C283&strip=all\n",
      "Completed Image ====> 8. untitled-design16.jpg\n",
      "Image URL: https://previews.123rf.com/images/radiantskies/radiantskies1301/radiantskies130100373/17147626-abstract-word-cloud-for-intellect-with-related-tags-and-terms.jpg\n",
      "Completed Image ====> 9. 17147626-abstract-word-cloud-for-intellect-with-related-tags-and-terms.jpg\n",
      "Image URL: https://limitlesslifehere.com/wp-content/uploads/2017/12/bigstock-195310696-600x400.jpg\n",
      "Completed Image ====> 10. bigstock-195310696-600x400.jpg\n",
      "Image URL: https://dxuoddg10rgxw.cloudfront.net/wp-content/uploads/2011/12/17023542/intellect.jpg\n",
      "Completed Image ====> 11. intellect.jpg\n",
      "Image URL: https://5.imimg.com/data5/GW/WT/GLADMIN-17644953/innate-intellect-assessment-500x500.png\n",
      "Completed Image ====> 12. innate-intellect-assessment-500x500.png\n",
      "Image URL: https://salespop.net/wp-content/uploads/2018/12/measuring-your-return-on-intellect-roi-860x350.jpg\n",
      "Completed Image ====> 13. measuring-your-return-on-intellect-roi-860x350.jpg\n",
      "Image URL: https://thumbor.forbes.com/thumbor/960x0/https%3A%2F%2Fblogs-images.forbes.com%2Fquora%2Ffiles%2F2016%2F01%2FScreen-Shot-2016-01-26-at-2.02.34-PM.jpg\n",
      "Completed Image ====> 14. https%3a%2f%2fblogs-images.forbes.com%2fquora%2ffiles%2f2016%2f01%2fscreen-shot-2016-01-26-at-2.02.34-pm.jpg\n",
      "Image URL: http://cdn.differencebetween.net/wp-content/uploads/2018/11/Difference-Between-Intelligence-and-Intellect.jpg\n",
      "Completed Image ====> 15. difference-between-intelligence-and-intellect.jpg\n",
      "Image URL: https://upliftconnect.com/wp-content/uploads/2015/10/Confines-Intellect.png\n",
      "Completed Image ====> 16. confines-intellect.png\n",
      "Image URL: https://d2unjtbcxaijk4.cloudfront.net/wp-content/uploads/2018/07/03123120/When-It-Comes-to-Faith-Are-Emotions-and-Intellect-Wrong-LightWorkers-2.jpg\n",
      "Completed Image ====> 17. when-it-comes-to-faith-are-emotions-and-intellect-wrong-lightworkers-2.jpg\n",
      "Image URL: http://intellectmedia.co.za/resources/icon%20slate.png\n",
      "Completed Image ====> 18. icon%20slate.png\n",
      "Image URL: https://thumbs.dreamstime.com/z/beyond-intellect-next-generation-ai-series-design-made-fusion-human-head-fractal-shape-to-serve-as-backdrop-projects-50234685.jpg\n",
      "Completed Image ====> 19. beyond-intellect-next-generation-ai-series-design-made-fusion-human-head-fractal-shape-to-serve-as-backdrop-projects-50234685.jpg\n",
      "Image URL: http://seyidipo.org/wp-content/uploads/2017/01/brainDevelopment.jpg\n",
      "Completed Image ====> 20. braindevelopment.jpg\n",
      "\n",
      "Errors: 0\n",
      "\n",
      "[{'intellect': ['/Users/emilychu/Desktop/glitch/downloads/intellect/1. 9-little-things-you-can-do-everyday-to-increase-your-intellect-to-a-whole-new-level.jpg', '/Users/emilychu/Desktop/glitch/downloads/intellect/2. 45858.jpg', '/Users/emilychu/Desktop/glitch/downloads/intellect/3. 1440679198_wholovesyourintellects.jpg', '/Users/emilychu/Desktop/glitch/downloads/intellect/4. 782799-200.png', '/Users/emilychu/Desktop/glitch/downloads/intellect/5. ideas.jpg', '/Users/emilychu/Desktop/glitch/downloads/intellect/6. brain_ada0pkr.jpg', '/Users/emilychu/Desktop/glitch/downloads/intellect/7. intellect-gear-icon-vector-10874550.jpg', '/Users/emilychu/Desktop/glitch/downloads/intellect/8. untitled-design16.jpg', '/Users/emilychu/Desktop/glitch/downloads/intellect/9. 17147626-abstract-word-cloud-for-intellect-with-related-tags-and-terms.jpg', '/Users/emilychu/Desktop/glitch/downloads/intellect/10. bigstock-195310696-600x400.jpg', '/Users/emilychu/Desktop/glitch/downloads/intellect/11. intellect.jpg', '/Users/emilychu/Desktop/glitch/downloads/intellect/12. innate-intellect-assessment-500x500.png', '/Users/emilychu/Desktop/glitch/downloads/intellect/13. measuring-your-return-on-intellect-roi-860x350.jpg', '/Users/emilychu/Desktop/glitch/downloads/intellect/14. https%3a%2f%2fblogs-images.forbes.com%2fquora%2ffiles%2f2016%2f01%2fscreen-shot-2016-01-26-at-2.02.34-pm.jpg', '/Users/emilychu/Desktop/glitch/downloads/intellect/15. difference-between-intelligence-and-intellect.jpg', '/Users/emilychu/Desktop/glitch/downloads/intellect/16. confines-intellect.png', '/Users/emilychu/Desktop/glitch/downloads/intellect/17. when-it-comes-to-faith-are-emotions-and-intellect-wrong-lightworkers-2.jpg', '/Users/emilychu/Desktop/glitch/downloads/intellect/18. icon%20slate.png', '/Users/emilychu/Desktop/glitch/downloads/intellect/19. beyond-intellect-next-generation-ai-series-design-made-fusion-human-head-fractal-shape-to-serve-as-backdrop-projects-50234685.jpg', '/Users/emilychu/Desktop/glitch/downloads/intellect/20. braindevelopment.jpg']}]\n"
     ]
    }
   ],
   "source": [
    "response = google_images_download.googleimagesdownload()   #class instantiation\n",
    "arguments = {\"keywords\":search,\"limit\":20,\"print_urls\":True}   #creating list of arguments\n",
    "path_list = [] # save paths to this list\n",
    "paths = response.download(arguments)   #passing the arguments to the function\n",
    "path_list.append(paths)\n",
    "print(path_list)"
   ]
  },
  {
   "cell_type": "code",
   "execution_count": 186,
   "metadata": {},
   "outputs": [
    {
     "name": "stdout",
     "output_type": "stream",
     "text": [
      "20\n"
     ]
    }
   ],
   "source": [
    "file_list = []\n",
    "for root, dirs, files in os.walk(folder_path):\n",
    "    for file in files:\n",
    "        file_list.append(file)\n",
    "        \n",
    "print(len(file_list))\n",
    "        \n",
    "np.savetxt(save_path, file_list, fmt=\"%s\", delimiter = \",\")"
   ]
  },
  {
   "cell_type": "code",
   "execution_count": 187,
   "metadata": {},
   "outputs": [],
   "source": [
    "import pandas as pd\n",
    "df2 = pd.read_csv(save_path, header=None)"
   ]
  },
  {
   "cell_type": "code",
   "execution_count": 188,
   "metadata": {
    "collapsed": true
   },
   "outputs": [],
   "source": [
    "df2.columns=[\"src\"]"
   ]
  },
  {
   "cell_type": "code",
   "execution_count": 189,
   "metadata": {},
   "outputs": [
    {
     "data": {
      "text/html": [
       "<div>\n",
       "<style>\n",
       "    .dataframe thead tr:only-child th {\n",
       "        text-align: right;\n",
       "    }\n",
       "\n",
       "    .dataframe thead th {\n",
       "        text-align: left;\n",
       "    }\n",
       "\n",
       "    .dataframe tbody tr th {\n",
       "        vertical-align: top;\n",
       "    }\n",
       "</style>\n",
       "<table border=\"1\" class=\"dataframe\">\n",
       "  <thead>\n",
       "    <tr style=\"text-align: right;\">\n",
       "      <th></th>\n",
       "      <th>src</th>\n",
       "    </tr>\n",
       "  </thead>\n",
       "  <tbody>\n",
       "    <tr>\n",
       "      <th>0</th>\n",
       "      <td>6. brain_ada0pkr.jpg</td>\n",
       "    </tr>\n",
       "    <tr>\n",
       "      <th>1</th>\n",
       "      <td>9. 17147626-abstract-word-cloud-for-intellect-...</td>\n",
       "    </tr>\n",
       "    <tr>\n",
       "      <th>2</th>\n",
       "      <td>5. ideas.jpg</td>\n",
       "    </tr>\n",
       "    <tr>\n",
       "      <th>3</th>\n",
       "      <td>7. intellect-gear-icon-vector-10874550.jpg</td>\n",
       "    </tr>\n",
       "    <tr>\n",
       "      <th>4</th>\n",
       "      <td>2. 45858.jpg</td>\n",
       "    </tr>\n",
       "    <tr>\n",
       "      <th>5</th>\n",
       "      <td>14. https%3a%2f%2fblogs-images.forbes.com%2fqu...</td>\n",
       "    </tr>\n",
       "    <tr>\n",
       "      <th>6</th>\n",
       "      <td>12. innate-intellect-assessment-500x500.png</td>\n",
       "    </tr>\n",
       "    <tr>\n",
       "      <th>7</th>\n",
       "      <td>19. beyond-intellect-next-generation-ai-series...</td>\n",
       "    </tr>\n",
       "    <tr>\n",
       "      <th>8</th>\n",
       "      <td>1. 9-little-things-you-can-do-everyday-to-incr...</td>\n",
       "    </tr>\n",
       "    <tr>\n",
       "      <th>9</th>\n",
       "      <td>17. when-it-comes-to-faith-are-emotions-and-in...</td>\n",
       "    </tr>\n",
       "    <tr>\n",
       "      <th>10</th>\n",
       "      <td>20. braindevelopment.jpg</td>\n",
       "    </tr>\n",
       "    <tr>\n",
       "      <th>11</th>\n",
       "      <td>3. 1440679198_wholovesyourintellects.jpg</td>\n",
       "    </tr>\n",
       "    <tr>\n",
       "      <th>12</th>\n",
       "      <td>4. 782799-200.png</td>\n",
       "    </tr>\n",
       "    <tr>\n",
       "      <th>13</th>\n",
       "      <td>15. difference-between-intelligence-and-intell...</td>\n",
       "    </tr>\n",
       "    <tr>\n",
       "      <th>14</th>\n",
       "      <td>16. confines-intellect.png</td>\n",
       "    </tr>\n",
       "    <tr>\n",
       "      <th>15</th>\n",
       "      <td>8. untitled-design16.jpg</td>\n",
       "    </tr>\n",
       "    <tr>\n",
       "      <th>16</th>\n",
       "      <td>18. icon%20slate.png</td>\n",
       "    </tr>\n",
       "    <tr>\n",
       "      <th>17</th>\n",
       "      <td>13. measuring-your-return-on-intellect-roi-860...</td>\n",
       "    </tr>\n",
       "    <tr>\n",
       "      <th>18</th>\n",
       "      <td>10. bigstock-195310696-600x400.jpg</td>\n",
       "    </tr>\n",
       "    <tr>\n",
       "      <th>19</th>\n",
       "      <td>11. intellect.jpg</td>\n",
       "    </tr>\n",
       "  </tbody>\n",
       "</table>\n",
       "</div>"
      ],
      "text/plain": [
       "                                                  src\n",
       "0                                6. brain_ada0pkr.jpg\n",
       "1   9. 17147626-abstract-word-cloud-for-intellect-...\n",
       "2                                        5. ideas.jpg\n",
       "3          7. intellect-gear-icon-vector-10874550.jpg\n",
       "4                                        2. 45858.jpg\n",
       "5   14. https%3a%2f%2fblogs-images.forbes.com%2fqu...\n",
       "6         12. innate-intellect-assessment-500x500.png\n",
       "7   19. beyond-intellect-next-generation-ai-series...\n",
       "8   1. 9-little-things-you-can-do-everyday-to-incr...\n",
       "9   17. when-it-comes-to-faith-are-emotions-and-in...\n",
       "10                           20. braindevelopment.jpg\n",
       "11           3. 1440679198_wholovesyourintellects.jpg\n",
       "12                                  4. 782799-200.png\n",
       "13  15. difference-between-intelligence-and-intell...\n",
       "14                         16. confines-intellect.png\n",
       "15                           8. untitled-design16.jpg\n",
       "16                               18. icon%20slate.png\n",
       "17  13. measuring-your-return-on-intellect-roi-860...\n",
       "18                 10. bigstock-195310696-600x400.jpg\n",
       "19                                  11. intellect.jpg"
      ]
     },
     "execution_count": 189,
     "metadata": {},
     "output_type": "execute_result"
    }
   ],
   "source": [
    "df2"
   ]
  },
  {
   "cell_type": "code",
   "execution_count": 190,
   "metadata": {
    "collapsed": true
   },
   "outputs": [],
   "source": [
    "df.to_csv(save_path, index=False)"
   ]
  },
  {
   "cell_type": "code",
   "execution_count": 191,
   "metadata": {},
   "outputs": [
    {
     "data": {
      "text/plain": [
       "1733"
      ]
     },
     "execution_count": 191,
     "metadata": {},
     "output_type": "execute_result"
    }
   ],
   "source": [
    "# save as json\n",
    "# Convert csv to json\n",
    "import csv\n",
    "import json\n",
    "\n",
    "csvfile = open(save_path, 'r')\n",
    "jsonfile = open(json_save_path, 'w')\n",
    "\n",
    "fieldnames = ('src')\n",
    "\n",
    "reader = csv.DictReader(csvfile, fieldnames)\n",
    "out = json.dumps( [row for row in reader])\n",
    "jsonfile.write(out)"
   ]
  },
  {
   "cell_type": "code",
   "execution_count": null,
   "metadata": {
    "collapsed": true
   },
   "outputs": [],
   "source": []
  }
 ],
 "metadata": {
  "kernelspec": {
   "display_name": "Python 3",
   "language": "python",
   "name": "python3"
  },
  "language_info": {
   "codemirror_mode": {
    "name": "ipython",
    "version": 3
   },
   "file_extension": ".py",
   "mimetype": "text/x-python",
   "name": "python",
   "nbconvert_exporter": "python",
   "pygments_lexer": "ipython3",
   "version": "3.6.3"
  }
 },
 "nbformat": 4,
 "nbformat_minor": 2
}
