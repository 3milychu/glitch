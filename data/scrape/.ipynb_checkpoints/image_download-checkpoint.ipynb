{
 "cells": [
  {
   "cell_type": "code",
   "execution_count": 2,
   "metadata": {
    "collapsed": true
   },
   "outputs": [],
   "source": [
    "from google_images_download import google_images_download\n",
    "import os\n",
    "import numpy as np\n",
    "import pandas as pd"
   ]
  },
  {
   "cell_type": "code",
   "execution_count": 3,
   "metadata": {
    "collapsed": true
   },
   "outputs": [],
   "source": [
    "# change search, folder and save path for each lookup\n",
    "search = \"bao\" # change this every time: your image keyword search\n",
    "num_images = 20 # the top n images downloaded from search\n",
    "folder_path = \"/Users/emilychu/Desktop/glitch/downloads/\" + search # change this with root directory of downloads\n",
    "save_path = search + \".csv\"\n",
    "json_save_path = search + '.json'"
   ]
  },
  {
   "cell_type": "code",
   "execution_count": 4,
   "metadata": {},
   "outputs": [
    {
     "name": "stdout",
     "output_type": "stream",
     "text": [
      "\n",
      "Item no.: 1 --> Item name = bao\n",
      "Evaluating...\n",
      "Starting Download...\n",
      "Image URL: https://www.sbs.com.au/food/sites/sbs.com.au.food/files/chicken-bao-hk.jpg\n",
      "Completed Image ====> 1. chicken-bao-hk.jpg\n",
      "Image URL: https://i1.wp.com/www.feastofstarlight.com/wp-content/uploads/2018/06/Pixars-Bao-recipe-title.jpg?resize=683%2C1024\n",
      "Completed Image ====> 2. pixars-bao-recipe-title.jpg\n",
      "Image URL: https://cdn77-s3.lazycatkitchen.com/wp-content/uploads/2018/09/vegan-char-siu-bao-cross-section-800x1200.jpg\n",
      "Completed Image ====> 3. vegan-char-siu-bao-cross-section-800x1200.jpg\n",
      "Image URL: https://cdn77-s3.lazycatkitchen.com/wp-content/uploads/2017/03/vegan-bao-buns-single-800x1200.jpg\n",
      "Completed Image ====> 4. vegan-bao-buns-single-800x1200.jpg\n",
      "Image URL: https://www.bbcgoodfood.com/sites/default/files/styles/recipe/public/recipe_images/steamed-pork-buns.jpg?itok=GsBSX55D\n",
      "Completed Image ====> 5. steamed-pork-buns.jpg\n",
      "Image URL: https://www.connoisseurusveg.com/wp-content/uploads/2018/07/vegan-bao-buns-16-of-18.jpg\n",
      "Completed Image ====> 6. vegan-bao-buns-16-of-18.jpg\n",
      "Image URL: https://sifu.unileversolutions.com/image/en-MY/recipe-topvisual/2/1260-709/lau-sa-bao-50271604.jpg\n",
      "Completed Image ====> 7. lau-sa-bao-50271604.jpg\n",
      "Image URL: https://www.malaysianchinesekitchen.com/wp-content/uploads/2016/01/CharSiuBao-1.jpg\n",
      "Completed Image ====> 8. charsiubao-1.jpg\n",
      "Image URL: https://www.gdaychef.com.au/wp-content/uploads/2018/08/16861607392_10f510f6a4_o.jpg\n",
      "Completed Image ====> 9. 16861607392_10f510f6a4_o.jpg\n",
      "Image URL: https://res.cloudinary.com/uktv/image/upload/b_rgb:000000,w_630,h_354/v1519056566/dapniiif3qokg4vgb7ss.jpg\n",
      "Completed Image ====> 10. dapniiif3qokg4vgb7ss.jpg\n",
      "Image URL: https://youplateit.com.au/wp-content/uploads/2018/04/Crispy-Chicken-Bao-Buns-Plated.jpg\n",
      "Completed Image ====> 11. crispy-chicken-bao-buns-plated.jpg\n",
      "Image URL: https://www.chinasichuanfood.com/wp-content/uploads/2014/02/char-siu-bao-67-320x320.jpg\n",
      "Completed Image ====> 12. char-siu-bao-67-320x320.jpg\n",
      "Image URL: https://du7ybees82p4m.cloudfront.net/58bfe79582d0f2.23298678.jpg?width=910&height=512\n",
      "Completed Image ====> 13. 58bfe79582d0f2.23298678.jpg\n",
      "Image URL: https://flockler.com/thumbs/sites/192/bao_s600x600_c1559x910_l0x947.png\n",
      "Completed Image ====> 14. bao_s600x600_c1559x910_l0x947.png\n",
      "Image URL: https://cdn.washingtoncitypaper.com/files/base/scomm/wcp/image/2017/01/640w/28180915740_a3942c5b3d_k.587e50c66fc68.jpg\n",
      "Completed Image ====> 15. 28180915740_a3942c5b3d_k.587e50c66fc68.jpg\n",
      "Image URL: https://i1.wp.com/redhousespice.com/wp-content/uploads/2017/08/Sheng-Jian-Bao-Pan-fried-pork-buns-portrait5.jpg?resize=730%2C1298&ssl=1\n",
      "Completed Image ====> 16. sheng-jian-bao-pan-fried-pork-buns-portrait5.jpg\n",
      "Image URL: https://upload.wikimedia.org/wikipedia/en/f/fa/Bao_%28film%29_poster.jpg\n",
      "Completed Image ====> 17. bao_%28film%29_poster.jpg\n",
      "Image URL: https://cdn-image.myrecipes.com/sites/default/files/styles/medium_2x/public/pork-hum-bao-mr.jpg?itok=7yxYEZDe\n",
      "Completed Image ====> 18. pork-hum-bao-mr.jpg\n",
      "Image URL: https://www.garlicandzest.com/wp-content/uploads/2017/03/steamed-pork-belly-buns-8.jpg\n",
      "Completed Image ====> 19. steamed-pork-belly-buns-8.jpg\n",
      "Image URL: https://i.kinja-img.com/gawker-media/image/upload/s--n3niXKMn--/c_scale,f_auto,fl_progressive,q_80,w_800/ckp2wdnwovpejo0tcgsa.jpg\n",
      "Completed Image ====> 20. ckp2wdnwovpejo0tcgsa.jpg\n",
      "\n",
      "Errors: 0\n",
      "\n",
      "[{'bao': ['/Volumes/Samsung_T3/project-repos/glitch/data/scrape/downloads/bao/1. chicken-bao-hk.jpg', '/Volumes/Samsung_T3/project-repos/glitch/data/scrape/downloads/bao/2. pixars-bao-recipe-title.jpg', '/Volumes/Samsung_T3/project-repos/glitch/data/scrape/downloads/bao/3. vegan-char-siu-bao-cross-section-800x1200.jpg', '/Volumes/Samsung_T3/project-repos/glitch/data/scrape/downloads/bao/4. vegan-bao-buns-single-800x1200.jpg', '/Volumes/Samsung_T3/project-repos/glitch/data/scrape/downloads/bao/5. steamed-pork-buns.jpg', '/Volumes/Samsung_T3/project-repos/glitch/data/scrape/downloads/bao/6. vegan-bao-buns-16-of-18.jpg', '/Volumes/Samsung_T3/project-repos/glitch/data/scrape/downloads/bao/7. lau-sa-bao-50271604.jpg', '/Volumes/Samsung_T3/project-repos/glitch/data/scrape/downloads/bao/8. charsiubao-1.jpg', '/Volumes/Samsung_T3/project-repos/glitch/data/scrape/downloads/bao/9. 16861607392_10f510f6a4_o.jpg', '/Volumes/Samsung_T3/project-repos/glitch/data/scrape/downloads/bao/10. dapniiif3qokg4vgb7ss.jpg', '/Volumes/Samsung_T3/project-repos/glitch/data/scrape/downloads/bao/11. crispy-chicken-bao-buns-plated.jpg', '/Volumes/Samsung_T3/project-repos/glitch/data/scrape/downloads/bao/12. char-siu-bao-67-320x320.jpg', '/Volumes/Samsung_T3/project-repos/glitch/data/scrape/downloads/bao/13. 58bfe79582d0f2.23298678.jpg', '/Volumes/Samsung_T3/project-repos/glitch/data/scrape/downloads/bao/14. bao_s600x600_c1559x910_l0x947.png', '/Volumes/Samsung_T3/project-repos/glitch/data/scrape/downloads/bao/15. 28180915740_a3942c5b3d_k.587e50c66fc68.jpg', '/Volumes/Samsung_T3/project-repos/glitch/data/scrape/downloads/bao/16. sheng-jian-bao-pan-fried-pork-buns-portrait5.jpg', '/Volumes/Samsung_T3/project-repos/glitch/data/scrape/downloads/bao/17. bao_%28film%29_poster.jpg', '/Volumes/Samsung_T3/project-repos/glitch/data/scrape/downloads/bao/18. pork-hum-bao-mr.jpg', '/Volumes/Samsung_T3/project-repos/glitch/data/scrape/downloads/bao/19. steamed-pork-belly-buns-8.jpg', '/Volumes/Samsung_T3/project-repos/glitch/data/scrape/downloads/bao/20. ckp2wdnwovpejo0tcgsa.jpg']}]\n"
     ]
    }
   ],
   "source": [
    "response = google_images_download.googleimagesdownload()   #class instantiation\n",
    "arguments = {\"keywords\":search,\"limit\":num_images,\"print_urls\":True}   #creating list of arguments\n",
    "path_list = [] # save paths to this list\n",
    "paths = response.download(arguments)   #passing the arguments to the function\n",
    "path_list.append(paths)\n",
    "print(path_list)"
   ]
  },
  {
   "cell_type": "code",
   "execution_count": 12,
   "metadata": {},
   "outputs": [
    {
     "name": "stdout",
     "output_type": "stream",
     "text": [
      "0\n"
     ]
    }
   ],
   "source": [
    "file_list = []\n",
    "for root, dirs, files in os.walk(folder_path):\n",
    "    for file in files:\n",
    "        file_list.append(file)\n",
    "        \n",
    "print(len(file_list))\n",
    "        \n",
    "np.savetxt(save_path, file_list, fmt=\"%s\", delimiter = \",\")"
   ]
  },
  {
   "cell_type": "code",
   "execution_count": 13,
   "metadata": {},
   "outputs": [
    {
     "ename": "EmptyDataError",
     "evalue": "No columns to parse from file",
     "output_type": "error",
     "traceback": [
      "\u001b[0;31m---------------------------------------------------------------------------\u001b[0m",
      "\u001b[0;31mEmptyDataError\u001b[0m                            Traceback (most recent call last)",
      "\u001b[0;32m<ipython-input-13-d0e2da2d13bc>\u001b[0m in \u001b[0;36m<module>\u001b[0;34m()\u001b[0m\n\u001b[1;32m      1\u001b[0m \u001b[0;32mimport\u001b[0m \u001b[0mpandas\u001b[0m \u001b[0;32mas\u001b[0m \u001b[0mpd\u001b[0m\u001b[0;34m\u001b[0m\u001b[0m\n\u001b[0;32m----> 2\u001b[0;31m \u001b[0mdf2\u001b[0m \u001b[0;34m=\u001b[0m \u001b[0mpd\u001b[0m\u001b[0;34m.\u001b[0m\u001b[0mread_csv\u001b[0m\u001b[0;34m(\u001b[0m\u001b[0msave_path\u001b[0m\u001b[0;34m,\u001b[0m \u001b[0mheader\u001b[0m\u001b[0;34m=\u001b[0m\u001b[0;32mNone\u001b[0m\u001b[0;34m)\u001b[0m\u001b[0;34m\u001b[0m\u001b[0m\n\u001b[0m",
      "\u001b[0;32m/anaconda3/lib/python3.6/site-packages/pandas/io/parsers.py\u001b[0m in \u001b[0;36mparser_f\u001b[0;34m(filepath_or_buffer, sep, delimiter, header, names, index_col, usecols, squeeze, prefix, mangle_dupe_cols, dtype, engine, converters, true_values, false_values, skipinitialspace, skiprows, nrows, na_values, keep_default_na, na_filter, verbose, skip_blank_lines, parse_dates, infer_datetime_format, keep_date_col, date_parser, dayfirst, iterator, chunksize, compression, thousands, decimal, lineterminator, quotechar, quoting, escapechar, comment, encoding, dialect, tupleize_cols, error_bad_lines, warn_bad_lines, skipfooter, skip_footer, doublequote, delim_whitespace, as_recarray, compact_ints, use_unsigned, low_memory, buffer_lines, memory_map, float_precision)\u001b[0m\n\u001b[1;32m    653\u001b[0m                     skip_blank_lines=skip_blank_lines)\n\u001b[1;32m    654\u001b[0m \u001b[0;34m\u001b[0m\u001b[0m\n\u001b[0;32m--> 655\u001b[0;31m         \u001b[0;32mreturn\u001b[0m \u001b[0m_read\u001b[0m\u001b[0;34m(\u001b[0m\u001b[0mfilepath_or_buffer\u001b[0m\u001b[0;34m,\u001b[0m \u001b[0mkwds\u001b[0m\u001b[0;34m)\u001b[0m\u001b[0;34m\u001b[0m\u001b[0m\n\u001b[0m\u001b[1;32m    656\u001b[0m \u001b[0;34m\u001b[0m\u001b[0m\n\u001b[1;32m    657\u001b[0m     \u001b[0mparser_f\u001b[0m\u001b[0;34m.\u001b[0m\u001b[0m__name__\u001b[0m \u001b[0;34m=\u001b[0m \u001b[0mname\u001b[0m\u001b[0;34m\u001b[0m\u001b[0m\n",
      "\u001b[0;32m/anaconda3/lib/python3.6/site-packages/pandas/io/parsers.py\u001b[0m in \u001b[0;36m_read\u001b[0;34m(filepath_or_buffer, kwds)\u001b[0m\n\u001b[1;32m    403\u001b[0m \u001b[0;34m\u001b[0m\u001b[0m\n\u001b[1;32m    404\u001b[0m     \u001b[0;31m# Create the parser.\u001b[0m\u001b[0;34m\u001b[0m\u001b[0;34m\u001b[0m\u001b[0m\n\u001b[0;32m--> 405\u001b[0;31m     \u001b[0mparser\u001b[0m \u001b[0;34m=\u001b[0m \u001b[0mTextFileReader\u001b[0m\u001b[0;34m(\u001b[0m\u001b[0mfilepath_or_buffer\u001b[0m\u001b[0;34m,\u001b[0m \u001b[0;34m**\u001b[0m\u001b[0mkwds\u001b[0m\u001b[0;34m)\u001b[0m\u001b[0;34m\u001b[0m\u001b[0m\n\u001b[0m\u001b[1;32m    406\u001b[0m \u001b[0;34m\u001b[0m\u001b[0m\n\u001b[1;32m    407\u001b[0m     \u001b[0;32mif\u001b[0m \u001b[0mchunksize\u001b[0m \u001b[0;32mor\u001b[0m \u001b[0miterator\u001b[0m\u001b[0;34m:\u001b[0m\u001b[0;34m\u001b[0m\u001b[0m\n",
      "\u001b[0;32m/anaconda3/lib/python3.6/site-packages/pandas/io/parsers.py\u001b[0m in \u001b[0;36m__init__\u001b[0;34m(self, f, engine, **kwds)\u001b[0m\n\u001b[1;32m    762\u001b[0m             \u001b[0mself\u001b[0m\u001b[0;34m.\u001b[0m\u001b[0moptions\u001b[0m\u001b[0;34m[\u001b[0m\u001b[0;34m'has_index_names'\u001b[0m\u001b[0;34m]\u001b[0m \u001b[0;34m=\u001b[0m \u001b[0mkwds\u001b[0m\u001b[0;34m[\u001b[0m\u001b[0;34m'has_index_names'\u001b[0m\u001b[0;34m]\u001b[0m\u001b[0;34m\u001b[0m\u001b[0m\n\u001b[1;32m    763\u001b[0m \u001b[0;34m\u001b[0m\u001b[0m\n\u001b[0;32m--> 764\u001b[0;31m         \u001b[0mself\u001b[0m\u001b[0;34m.\u001b[0m\u001b[0m_make_engine\u001b[0m\u001b[0;34m(\u001b[0m\u001b[0mself\u001b[0m\u001b[0;34m.\u001b[0m\u001b[0mengine\u001b[0m\u001b[0;34m)\u001b[0m\u001b[0;34m\u001b[0m\u001b[0m\n\u001b[0m\u001b[1;32m    765\u001b[0m \u001b[0;34m\u001b[0m\u001b[0m\n\u001b[1;32m    766\u001b[0m     \u001b[0;32mdef\u001b[0m \u001b[0mclose\u001b[0m\u001b[0;34m(\u001b[0m\u001b[0mself\u001b[0m\u001b[0;34m)\u001b[0m\u001b[0;34m:\u001b[0m\u001b[0;34m\u001b[0m\u001b[0m\n",
      "\u001b[0;32m/anaconda3/lib/python3.6/site-packages/pandas/io/parsers.py\u001b[0m in \u001b[0;36m_make_engine\u001b[0;34m(self, engine)\u001b[0m\n\u001b[1;32m    983\u001b[0m     \u001b[0;32mdef\u001b[0m \u001b[0m_make_engine\u001b[0m\u001b[0;34m(\u001b[0m\u001b[0mself\u001b[0m\u001b[0;34m,\u001b[0m \u001b[0mengine\u001b[0m\u001b[0;34m=\u001b[0m\u001b[0;34m'c'\u001b[0m\u001b[0;34m)\u001b[0m\u001b[0;34m:\u001b[0m\u001b[0;34m\u001b[0m\u001b[0m\n\u001b[1;32m    984\u001b[0m         \u001b[0;32mif\u001b[0m \u001b[0mengine\u001b[0m \u001b[0;34m==\u001b[0m \u001b[0;34m'c'\u001b[0m\u001b[0;34m:\u001b[0m\u001b[0;34m\u001b[0m\u001b[0m\n\u001b[0;32m--> 985\u001b[0;31m             \u001b[0mself\u001b[0m\u001b[0;34m.\u001b[0m\u001b[0m_engine\u001b[0m \u001b[0;34m=\u001b[0m \u001b[0mCParserWrapper\u001b[0m\u001b[0;34m(\u001b[0m\u001b[0mself\u001b[0m\u001b[0;34m.\u001b[0m\u001b[0mf\u001b[0m\u001b[0;34m,\u001b[0m \u001b[0;34m**\u001b[0m\u001b[0mself\u001b[0m\u001b[0;34m.\u001b[0m\u001b[0moptions\u001b[0m\u001b[0;34m)\u001b[0m\u001b[0;34m\u001b[0m\u001b[0m\n\u001b[0m\u001b[1;32m    986\u001b[0m         \u001b[0;32melse\u001b[0m\u001b[0;34m:\u001b[0m\u001b[0;34m\u001b[0m\u001b[0m\n\u001b[1;32m    987\u001b[0m             \u001b[0;32mif\u001b[0m \u001b[0mengine\u001b[0m \u001b[0;34m==\u001b[0m \u001b[0;34m'python'\u001b[0m\u001b[0;34m:\u001b[0m\u001b[0;34m\u001b[0m\u001b[0m\n",
      "\u001b[0;32m/anaconda3/lib/python3.6/site-packages/pandas/io/parsers.py\u001b[0m in \u001b[0;36m__init__\u001b[0;34m(self, src, **kwds)\u001b[0m\n\u001b[1;32m   1603\u001b[0m         \u001b[0mkwds\u001b[0m\u001b[0;34m[\u001b[0m\u001b[0;34m'allow_leading_cols'\u001b[0m\u001b[0;34m]\u001b[0m \u001b[0;34m=\u001b[0m \u001b[0mself\u001b[0m\u001b[0;34m.\u001b[0m\u001b[0mindex_col\u001b[0m \u001b[0;32mis\u001b[0m \u001b[0;32mnot\u001b[0m \u001b[0;32mFalse\u001b[0m\u001b[0;34m\u001b[0m\u001b[0m\n\u001b[1;32m   1604\u001b[0m \u001b[0;34m\u001b[0m\u001b[0m\n\u001b[0;32m-> 1605\u001b[0;31m         \u001b[0mself\u001b[0m\u001b[0;34m.\u001b[0m\u001b[0m_reader\u001b[0m \u001b[0;34m=\u001b[0m \u001b[0mparsers\u001b[0m\u001b[0;34m.\u001b[0m\u001b[0mTextReader\u001b[0m\u001b[0;34m(\u001b[0m\u001b[0msrc\u001b[0m\u001b[0;34m,\u001b[0m \u001b[0;34m**\u001b[0m\u001b[0mkwds\u001b[0m\u001b[0;34m)\u001b[0m\u001b[0;34m\u001b[0m\u001b[0m\n\u001b[0m\u001b[1;32m   1606\u001b[0m \u001b[0;34m\u001b[0m\u001b[0m\n\u001b[1;32m   1607\u001b[0m         \u001b[0;31m# XXX\u001b[0m\u001b[0;34m\u001b[0m\u001b[0;34m\u001b[0m\u001b[0m\n",
      "\u001b[0;32mpandas/_libs/parsers.pyx\u001b[0m in \u001b[0;36mpandas._libs.parsers.TextReader.__cinit__ (pandas/_libs/parsers.c:6260)\u001b[0;34m()\u001b[0m\n",
      "\u001b[0;31mEmptyDataError\u001b[0m: No columns to parse from file"
     ]
    }
   ],
   "source": [
    "import pandas as pd\n",
    "df2 = pd.read_csv(save_path, header=None)"
   ]
  },
  {
   "cell_type": "code",
   "execution_count": 9,
   "metadata": {},
   "outputs": [
    {
     "ename": "NameError",
     "evalue": "name 'df2' is not defined",
     "output_type": "error",
     "traceback": [
      "\u001b[0;31m---------------------------------------------------------------------------\u001b[0m",
      "\u001b[0;31mNameError\u001b[0m                                 Traceback (most recent call last)",
      "\u001b[0;32m<ipython-input-9-a83f9497d5cc>\u001b[0m in \u001b[0;36m<module>\u001b[0;34m()\u001b[0m\n\u001b[0;32m----> 1\u001b[0;31m \u001b[0mdf2\u001b[0m\u001b[0;34m.\u001b[0m\u001b[0mcolumns\u001b[0m\u001b[0;34m=\u001b[0m\u001b[0;34m[\u001b[0m\u001b[0;34m\"src\"\u001b[0m\u001b[0;34m]\u001b[0m\u001b[0;34m\u001b[0m\u001b[0m\n\u001b[0m",
      "\u001b[0;31mNameError\u001b[0m: name 'df2' is not defined"
     ]
    }
   ],
   "source": [
    "df2.columns=[\"src\"]"
   ]
  },
  {
   "cell_type": "code",
   "execution_count": 10,
   "metadata": {},
   "outputs": [
    {
     "ename": "NameError",
     "evalue": "name 'df2' is not defined",
     "output_type": "error",
     "traceback": [
      "\u001b[0;31m---------------------------------------------------------------------------\u001b[0m",
      "\u001b[0;31mNameError\u001b[0m                                 Traceback (most recent call last)",
      "\u001b[0;32m<ipython-input-10-d4a59695a920>\u001b[0m in \u001b[0;36m<module>\u001b[0;34m()\u001b[0m\n\u001b[0;32m----> 1\u001b[0;31m \u001b[0mdf2\u001b[0m\u001b[0;34m\u001b[0m\u001b[0m\n\u001b[0m",
      "\u001b[0;31mNameError\u001b[0m: name 'df2' is not defined"
     ]
    }
   ],
   "source": [
    "df2"
   ]
  },
  {
   "cell_type": "code",
   "execution_count": null,
   "metadata": {
    "collapsed": true
   },
   "outputs": [],
   "source": [
    "df2.to_csv(save_path, index=False)"
   ]
  },
  {
   "cell_type": "code",
   "execution_count": null,
   "metadata": {},
   "outputs": [],
   "source": [
    "# save as json\n",
    "# Convert csv to json\n",
    "import csv\n",
    "import json\n",
    "\n",
    "csvfile = open(save_path, 'r')\n",
    "jsonfile = open(json_save_path, 'w')\n",
    "\n",
    "fieldnames = ('src')\n",
    "\n",
    "reader = csv.DictReader(csvfile, fieldnames)\n",
    "out = json.dumps( [row for row in reader])\n",
    "jsonfile.write(out)"
   ]
  },
  {
   "cell_type": "code",
   "execution_count": null,
   "metadata": {
    "collapsed": true
   },
   "outputs": [],
   "source": []
  }
 ],
 "metadata": {
  "kernelspec": {
   "display_name": "Python 3",
   "language": "python",
   "name": "python3"
  },
  "language_info": {
   "codemirror_mode": {
    "name": "ipython",
    "version": 3
   },
   "file_extension": ".py",
   "mimetype": "text/x-python",
   "name": "python",
   "nbconvert_exporter": "python",
   "pygments_lexer": "ipython3",
   "version": "3.6.3"
  }
 },
 "nbformat": 4,
 "nbformat_minor": 2
}
